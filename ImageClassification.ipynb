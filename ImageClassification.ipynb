{
  "nbformat": 4,
  "nbformat_minor": 0,
  "metadata": {
    "colab": {
      "name": "ImageClassification.ipynb",
      "provenance": []
    },
    "kernelspec": {
      "name": "python3",
      "display_name": "Python 3"
    },
    "accelerator": "GPU"
  },
  "cells": [
    {
      "cell_type": "markdown",
      "metadata": {
        "id": "xpukB5b6vGjy",
        "colab_type": "text"
      },
      "source": [
        "# Download code\n",
        "Note that you can select edit/notebook setting to choose gpu"
      ]
    },
    {
      "cell_type": "code",
      "metadata": {
        "id": "JuKuoK3zlOnW",
        "colab_type": "code",
        "colab": {}
      },
      "source": [
        "import os\n",
        "!git clone https://github.com/Androgyne/pytorch-image_classification.git\n",
        "os.chdir('pytorch-image_classification')\n",
        "os.mkdir('data')"
      ],
      "execution_count": 0,
      "outputs": []
    },
    {
      "cell_type": "markdown",
      "metadata": {
        "id": "ysIKbhzDvMkw",
        "colab_type": "text"
      },
      "source": [
        "# Upload data to google drive, then refresh dir, move data_dir to data/"
      ]
    },
    {
      "cell_type": "code",
      "metadata": {
        "id": "FuZyAHP9mv6A",
        "colab_type": "code",
        "colab": {}
      },
      "source": [
        "from google.colab import drive\n",
        "drive.mount('/content/drive')"
      ],
      "execution_count": 0,
      "outputs": []
    },
    {
      "cell_type": "markdown",
      "metadata": {
        "id": "-HAdwTcXwemB",
        "colab_type": "text"
      },
      "source": [
        "# Prepare data\n",
        "If your data is as the requirements, you will do nothing"
      ]
    },
    {
      "cell_type": "code",
      "metadata": {
        "id": "9kCuaKcZofFG",
        "colab_type": "code",
        "colab": {}
      },
      "source": [
        "!python run.py --type prepare_data --input_dir data/JPEG --output_dir data/seg --train_test_ratio 0.5"
      ],
      "execution_count": 0,
      "outputs": []
    },
    {
      "cell_type": "markdown",
      "metadata": {
        "id": "GUHDdrl1wvqt",
        "colab_type": "text"
      },
      "source": [
        "# Train\n",
        "Default network is resnet18, you can also choose your own network "
      ]
    },
    {
      "cell_type": "code",
      "metadata": {
        "id": "ehzNc-ohtz4W",
        "colab_type": "code",
        "colab": {}
      },
      "source": [
        "!python run.py --type main --dataset data/seg"
      ],
      "execution_count": 0,
      "outputs": []
    }
  ]
}